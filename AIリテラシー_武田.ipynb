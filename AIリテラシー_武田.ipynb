{
  "nbformat": 4,
  "nbformat_minor": 0,
  "metadata": {
    "colab": {
      "name": "AIリテラシー_武田.ipynb",
      "provenance": [],
      "collapsed_sections": [],
      "mount_file_id": "1koixX30aiWGCt3UK0qAq749KpbaGlsJj",
      "authorship_tag": "ABX9TyNhjJnKCgmatgJEE2H7pRdV",
      "include_colab_link": true
    },
    "kernelspec": {
      "name": "python3",
      "display_name": "Python 3"
    }
  },
  "cells": [
    {
      "cell_type": "markdown",
      "metadata": {
        "id": "view-in-github",
        "colab_type": "text"
      },
      "source": [
        "<a href=\"https://colab.research.google.com/github/satoshi0630/AIkadai/blob/master/AI%E3%83%AA%E3%83%86%E3%83%A9%E3%82%B7%E3%83%BC_%E6%AD%A6%E7%94%B0.ipynb\" target=\"_parent\"><img src=\"https://colab.research.google.com/assets/colab-badge.svg\" alt=\"Open In Colab\"/></a>"
      ]
    },
    {
      "cell_type": "code",
      "metadata": {
        "id": "dfvdaj-BrR6Y",
        "colab_type": "code",
        "colab": {
          "base_uri": "https://localhost:8080/",
          "height": 122
        },
        "outputId": "70780a5f-d911-40a8-9fe4-d50128aba030"
      },
      "source": [
        "from google.colab import drive\n",
        "drive.mount('/content/drive/')"
      ],
      "execution_count": null,
      "outputs": [
        {
          "output_type": "stream",
          "text": [
            "Go to this URL in a browser: https://accounts.google.com/o/oauth2/auth?client_id=947318989803-6bn6qk8qdgf4n4g3pfee6491hc0brc4i.apps.googleusercontent.com&redirect_uri=urn%3aietf%3awg%3aoauth%3a2.0%3aoob&scope=email%20https%3a%2f%2fwww.googleapis.com%2fauth%2fdocs.test%20https%3a%2f%2fwww.googleapis.com%2fauth%2fdrive%20https%3a%2f%2fwww.googleapis.com%2fauth%2fdrive.photos.readonly%20https%3a%2f%2fwww.googleapis.com%2fauth%2fpeopleapi.readonly&response_type=code\n",
            "\n",
            "Enter your authorization code:\n",
            "··········\n",
            "Mounted at /content/drive/\n"
          ],
          "name": "stdout"
        }
      ]
    },
    {
      "cell_type": "code",
      "metadata": {
        "id": "kekyj2wdrdJZ",
        "colab_type": "code",
        "colab": {}
      },
      "source": [
        "!pip install -U -q PyDrive\n",
        "from pydrive.auth import GoogleAuth\n",
        "from pydrive.drive import GoogleDrive\n",
        "from google.colab import auth\n",
        "from oauth2client.client import GoogleCredentials\n",
        "\n",
        "# check auth\n",
        "auth.authenticate_user()\n",
        "gauth = GoogleAuth()\n",
        "gauth.credentials = GoogleCredentials.get_application_default()\n",
        "drive = GoogleDrive(gauth)"
      ],
      "execution_count": null,
      "outputs": []
    },
    {
      "cell_type": "code",
      "metadata": {
        "id": "11xactYmrvEo",
        "colab_type": "code",
        "colab": {
          "base_uri": "https://localhost:8080/",
          "height": 359
        },
        "outputId": "3cb9d8bf-38e8-4e9f-8038-d08c36f0c34c"
      },
      "source": [
        "downloaded = drive.CreateFile({'id':'151I4zoMmx8kKONgLZj0sQa3bQCiZeoLx'})\n",
        "\n",
        "# Download the file to a local disk as 'sample.csv'.\n",
        "downloaded.GetContentFile('card_data.csv')\n",
        "\n",
        "import pandas as pd\n",
        "df = pd.read_csv('card_data.csv',encoding='CP932')\n",
        "df.head(10) #先頭10行を表示"
      ],
      "execution_count": null,
      "outputs": [
        {
          "output_type": "execute_result",
          "data": {
            "text/html": [
              "<div>\n",
              "<style scoped>\n",
              "    .dataframe tbody tr th:only-of-type {\n",
              "        vertical-align: middle;\n",
              "    }\n",
              "\n",
              "    .dataframe tbody tr th {\n",
              "        vertical-align: top;\n",
              "    }\n",
              "\n",
              "    .dataframe thead th {\n",
              "        text-align: right;\n",
              "    }\n",
              "</style>\n",
              "<table border=\"1\" class=\"dataframe\">\n",
              "  <thead>\n",
              "    <tr style=\"text-align: right;\">\n",
              "      <th></th>\n",
              "      <th>Name</th>\n",
              "      <th>Type</th>\n",
              "      <th>Level</th>\n",
              "      <th>Race</th>\n",
              "      <th>Attribute</th>\n",
              "      <th>ATK</th>\n",
              "      <th>DEF</th>\n",
              "    </tr>\n",
              "  </thead>\n",
              "  <tbody>\n",
              "    <tr>\n",
              "      <th>0</th>\n",
              "      <td>Limit Reverse</td>\n",
              "      <td>Trap Card</td>\n",
              "      <td>NaN</td>\n",
              "      <td>Continuous</td>\n",
              "      <td>NaN</td>\n",
              "      <td>NaN</td>\n",
              "      <td>NaN</td>\n",
              "    </tr>\n",
              "    <tr>\n",
              "      <th>1</th>\n",
              "      <td>The 13th Grave</td>\n",
              "      <td>Normal Monster</td>\n",
              "      <td>3.0</td>\n",
              "      <td>Zombie</td>\n",
              "      <td>DARK</td>\n",
              "      <td>1200.0</td>\n",
              "      <td>900.0</td>\n",
              "    </tr>\n",
              "    <tr>\n",
              "      <th>2</th>\n",
              "      <td>Gem-Enhancement</td>\n",
              "      <td>Trap Card</td>\n",
              "      <td>NaN</td>\n",
              "      <td>Normal</td>\n",
              "      <td>NaN</td>\n",
              "      <td>NaN</td>\n",
              "      <td>NaN</td>\n",
              "    </tr>\n",
              "    <tr>\n",
              "      <th>3</th>\n",
              "      <td>Magician's Circle</td>\n",
              "      <td>Trap Card</td>\n",
              "      <td>NaN</td>\n",
              "      <td>Normal</td>\n",
              "      <td>NaN</td>\n",
              "      <td>NaN</td>\n",
              "      <td>NaN</td>\n",
              "    </tr>\n",
              "    <tr>\n",
              "      <th>4</th>\n",
              "      <td>Castle of Dark Illusions</td>\n",
              "      <td>Flip Effect Monster</td>\n",
              "      <td>4.0</td>\n",
              "      <td>Fiend</td>\n",
              "      <td>DARK</td>\n",
              "      <td>920.0</td>\n",
              "      <td>1930.0</td>\n",
              "    </tr>\n",
              "    <tr>\n",
              "      <th>5</th>\n",
              "      <td>Cipher Spectrum</td>\n",
              "      <td>Trap Card</td>\n",
              "      <td>NaN</td>\n",
              "      <td>Normal</td>\n",
              "      <td>NaN</td>\n",
              "      <td>NaN</td>\n",
              "      <td>NaN</td>\n",
              "    </tr>\n",
              "    <tr>\n",
              "      <th>6</th>\n",
              "      <td>Lava Golem</td>\n",
              "      <td>Effect Monster</td>\n",
              "      <td>8.0</td>\n",
              "      <td>Fiend</td>\n",
              "      <td>FIRE</td>\n",
              "      <td>3000.0</td>\n",
              "      <td>2500.0</td>\n",
              "    </tr>\n",
              "    <tr>\n",
              "      <th>7</th>\n",
              "      <td>Dark Magic Expanded</td>\n",
              "      <td>Spell Card</td>\n",
              "      <td>NaN</td>\n",
              "      <td>Quick-Play</td>\n",
              "      <td>NaN</td>\n",
              "      <td>NaN</td>\n",
              "      <td>NaN</td>\n",
              "    </tr>\n",
              "    <tr>\n",
              "      <th>8</th>\n",
              "      <td>Seismic Crasher</td>\n",
              "      <td>Effect Monster</td>\n",
              "      <td>3.0</td>\n",
              "      <td>Rock</td>\n",
              "      <td>EARTH</td>\n",
              "      <td>1400.0</td>\n",
              "      <td>300.0</td>\n",
              "    </tr>\n",
              "    <tr>\n",
              "      <th>9</th>\n",
              "      <td>Laval Lancelord</td>\n",
              "      <td>Effect Monster</td>\n",
              "      <td>6.0</td>\n",
              "      <td>Warrior</td>\n",
              "      <td>FIRE</td>\n",
              "      <td>2100.0</td>\n",
              "      <td>200.0</td>\n",
              "    </tr>\n",
              "  </tbody>\n",
              "</table>\n",
              "</div>"
            ],
            "text/plain": [
              "                       Name                 Type  ...     ATK     DEF\n",
              "0             Limit Reverse            Trap Card  ...     NaN     NaN\n",
              "1            The 13th Grave       Normal Monster  ...  1200.0   900.0\n",
              "2           Gem-Enhancement            Trap Card  ...     NaN     NaN\n",
              "3         Magician's Circle            Trap Card  ...     NaN     NaN\n",
              "4  Castle of Dark Illusions  Flip Effect Monster  ...   920.0  1930.0\n",
              "5           Cipher Spectrum            Trap Card  ...     NaN     NaN\n",
              "6                Lava Golem       Effect Monster  ...  3000.0  2500.0\n",
              "7       Dark Magic Expanded           Spell Card  ...     NaN     NaN\n",
              "8           Seismic Crasher       Effect Monster  ...  1400.0   300.0\n",
              "9           Laval Lancelord       Effect Monster  ...  2100.0   200.0\n",
              "\n",
              "[10 rows x 7 columns]"
            ]
          },
          "metadata": {
            "tags": []
          },
          "execution_count": 6
        }
      ]
    },
    {
      "cell_type": "code",
      "metadata": {
        "id": "J0NYTy5PsMLF",
        "colab_type": "code",
        "colab": {}
      },
      "source": [
        "import re\n",
        "import os\n",
        "import numpy as np\n",
        "import pandas as pd\n",
        "import matplotlib.pyplot as plt\n",
        "import seaborn as sns\n",
        "import seaborn as sns\n",
        "\n",
        "\n",
        "\n",
        "from sklearn.ensemble import RandomForestRegressor\n",
        "from sklearn.metrics import mean_squared_error, mean_squared_log_error\n",
        "\n",
        "import matplotlib as mpl\n",
        "from sklearn import linear_model\n",
        "\n",
        "import pickle\n",
        "\n",
        "import xgboost as xgb\n",
        "from sklearn.model_selection import GridSearchCV\n",
        "from sklearn.datasets import load_digits\n",
        "from sklearn.metrics import confusion_matrix, classification_report\n",
        "\n",
        "# Jupyter 上で絵を表示するためのマジックコマンド\n",
        "%matplotlib inline \n",
        "import matplotlib.pyplot as plt # matplotlib.pyplot をインポートし、以下 plt と呼ぶ。"
      ],
      "execution_count": null,
      "outputs": []
    },
    {
      "cell_type": "code",
      "metadata": {
        "id": "rDWdKxl0st1X",
        "colab_type": "code",
        "colab": {
          "base_uri": "https://localhost:8080/",
          "height": 670
        },
        "outputId": "0588b24f-72f0-4ea4-da56-06e53896424b"
      },
      "source": [
        "df.head(30).style.bar(subset=['Level','ATK','DEF'])"
      ],
      "execution_count": null,
      "outputs": [
        {
          "output_type": "execute_result",
          "data": {
            "text/html": [
              "<style  type=\"text/css\" >\n",
              "    #T_6e9e3a22_eaf1_11ea_9094_0242ac1c0002row1_col2 {\n",
              "            width:  10em;\n",
              "             height:  80%;\n",
              "            background:  linear-gradient(90deg,#d65f5f 28.6%, transparent 28.6%);\n",
              "        }    #T_6e9e3a22_eaf1_11ea_9094_0242ac1c0002row1_col5 {\n",
              "            width:  10em;\n",
              "             height:  80%;\n",
              "            background:  linear-gradient(90deg,#d65f5f 37.9%, transparent 37.9%);\n",
              "        }    #T_6e9e3a22_eaf1_11ea_9094_0242ac1c0002row1_col6 {\n",
              "            width:  10em;\n",
              "             height:  80%;\n",
              "            background:  linear-gradient(90deg,#d65f5f 36.0%, transparent 36.0%);\n",
              "        }    #T_6e9e3a22_eaf1_11ea_9094_0242ac1c0002row4_col2 {\n",
              "            width:  10em;\n",
              "             height:  80%;\n",
              "            background:  linear-gradient(90deg,#d65f5f 42.9%, transparent 42.9%);\n",
              "        }    #T_6e9e3a22_eaf1_11ea_9094_0242ac1c0002row4_col5 {\n",
              "            width:  10em;\n",
              "             height:  80%;\n",
              "            background:  linear-gradient(90deg,#d65f5f 28.3%, transparent 28.3%);\n",
              "        }    #T_6e9e3a22_eaf1_11ea_9094_0242ac1c0002row4_col6 {\n",
              "            width:  10em;\n",
              "             height:  80%;\n",
              "            background:  linear-gradient(90deg,#d65f5f 77.2%, transparent 77.2%);\n",
              "        }    #T_6e9e3a22_eaf1_11ea_9094_0242ac1c0002row6_col2 {\n",
              "            width:  10em;\n",
              "             height:  80%;\n",
              "            background:  linear-gradient(90deg,#d65f5f 100.0%, transparent 100.0%);\n",
              "        }    #T_6e9e3a22_eaf1_11ea_9094_0242ac1c0002row6_col5 {\n",
              "            width:  10em;\n",
              "             height:  80%;\n",
              "            background:  linear-gradient(90deg,#d65f5f 100.0%, transparent 100.0%);\n",
              "        }    #T_6e9e3a22_eaf1_11ea_9094_0242ac1c0002row6_col6 {\n",
              "            width:  10em;\n",
              "             height:  80%;\n",
              "            background:  linear-gradient(90deg,#d65f5f 100.0%, transparent 100.0%);\n",
              "        }    #T_6e9e3a22_eaf1_11ea_9094_0242ac1c0002row8_col2 {\n",
              "            width:  10em;\n",
              "             height:  80%;\n",
              "            background:  linear-gradient(90deg,#d65f5f 28.6%, transparent 28.6%);\n",
              "        }    #T_6e9e3a22_eaf1_11ea_9094_0242ac1c0002row8_col5 {\n",
              "            width:  10em;\n",
              "             height:  80%;\n",
              "            background:  linear-gradient(90deg,#d65f5f 44.8%, transparent 44.8%);\n",
              "        }    #T_6e9e3a22_eaf1_11ea_9094_0242ac1c0002row8_col6 {\n",
              "            width:  10em;\n",
              "             height:  80%;\n",
              "            background:  linear-gradient(90deg,#d65f5f 12.0%, transparent 12.0%);\n",
              "        }    #T_6e9e3a22_eaf1_11ea_9094_0242ac1c0002row9_col2 {\n",
              "            width:  10em;\n",
              "             height:  80%;\n",
              "            background:  linear-gradient(90deg,#d65f5f 71.4%, transparent 71.4%);\n",
              "        }    #T_6e9e3a22_eaf1_11ea_9094_0242ac1c0002row9_col5 {\n",
              "            width:  10em;\n",
              "             height:  80%;\n",
              "            background:  linear-gradient(90deg,#d65f5f 69.0%, transparent 69.0%);\n",
              "        }    #T_6e9e3a22_eaf1_11ea_9094_0242ac1c0002row9_col6 {\n",
              "            width:  10em;\n",
              "             height:  80%;\n",
              "            background:  linear-gradient(90deg,#d65f5f 8.0%, transparent 8.0%);\n",
              "        }    #T_6e9e3a22_eaf1_11ea_9094_0242ac1c0002row11_col2 {\n",
              "            width:  10em;\n",
              "             height:  80%;\n",
              "            background:  linear-gradient(90deg,#d65f5f 57.1%, transparent 57.1%);\n",
              "        }    #T_6e9e3a22_eaf1_11ea_9094_0242ac1c0002row11_col5 {\n",
              "            width:  10em;\n",
              "             height:  80%;\n",
              "            background:  linear-gradient(90deg,#d65f5f 34.5%, transparent 34.5%);\n",
              "        }    #T_6e9e3a22_eaf1_11ea_9094_0242ac1c0002row11_col6 {\n",
              "            width:  10em;\n",
              "             height:  80%;\n",
              "            background:  linear-gradient(90deg,#d65f5f 96.0%, transparent 96.0%);\n",
              "        }    #T_6e9e3a22_eaf1_11ea_9094_0242ac1c0002row12_col2 {\n",
              "            width:  10em;\n",
              "             height:  80%;\n",
              "            background:  linear-gradient(90deg,#d65f5f 14.3%, transparent 14.3%);\n",
              "        }    #T_6e9e3a22_eaf1_11ea_9094_0242ac1c0002row12_col5 {\n",
              "            width:  10em;\n",
              "             height:  80%;\n",
              "            background:  linear-gradient(90deg,#d65f5f 6.9%, transparent 6.9%);\n",
              "        }    #T_6e9e3a22_eaf1_11ea_9094_0242ac1c0002row12_col6 {\n",
              "            width:  10em;\n",
              "             height:  80%;\n",
              "            background:  linear-gradient(90deg,#d65f5f 20.0%, transparent 20.0%);\n",
              "        }    #T_6e9e3a22_eaf1_11ea_9094_0242ac1c0002row13_col2 {\n",
              "            width:  10em;\n",
              "             height:  80%;\n",
              "        }    #T_6e9e3a22_eaf1_11ea_9094_0242ac1c0002row13_col5 {\n",
              "            width:  10em;\n",
              "             height:  80%;\n",
              "        }    #T_6e9e3a22_eaf1_11ea_9094_0242ac1c0002row13_col6 {\n",
              "            width:  10em;\n",
              "             height:  80%;\n",
              "            background:  linear-gradient(90deg,#d65f5f 4.0%, transparent 4.0%);\n",
              "        }    #T_6e9e3a22_eaf1_11ea_9094_0242ac1c0002row15_col2 {\n",
              "            width:  10em;\n",
              "             height:  80%;\n",
              "            background:  linear-gradient(90deg,#d65f5f 42.9%, transparent 42.9%);\n",
              "        }    #T_6e9e3a22_eaf1_11ea_9094_0242ac1c0002row15_col5 {\n",
              "            width:  10em;\n",
              "             height:  80%;\n",
              "            background:  linear-gradient(90deg,#d65f5f 58.6%, transparent 58.6%);\n",
              "        }    #T_6e9e3a22_eaf1_11ea_9094_0242ac1c0002row15_col6 {\n",
              "            width:  10em;\n",
              "             height:  80%;\n",
              "            background:  linear-gradient(90deg,#d65f5f 32.0%, transparent 32.0%);\n",
              "        }    #T_6e9e3a22_eaf1_11ea_9094_0242ac1c0002row16_col2 {\n",
              "            width:  10em;\n",
              "             height:  80%;\n",
              "            background:  linear-gradient(90deg,#d65f5f 42.9%, transparent 42.9%);\n",
              "        }    #T_6e9e3a22_eaf1_11ea_9094_0242ac1c0002row16_col5 {\n",
              "            width:  10em;\n",
              "             height:  80%;\n",
              "            background:  linear-gradient(90deg,#d65f5f 58.6%, transparent 58.6%);\n",
              "        }    #T_6e9e3a22_eaf1_11ea_9094_0242ac1c0002row16_col6 {\n",
              "            width:  10em;\n",
              "             height:  80%;\n",
              "            background:  linear-gradient(90deg,#d65f5f 72.0%, transparent 72.0%);\n",
              "        }    #T_6e9e3a22_eaf1_11ea_9094_0242ac1c0002row20_col2 {\n",
              "            width:  10em;\n",
              "             height:  80%;\n",
              "            background:  linear-gradient(90deg,#d65f5f 42.9%, transparent 42.9%);\n",
              "        }    #T_6e9e3a22_eaf1_11ea_9094_0242ac1c0002row20_col5 {\n",
              "            width:  10em;\n",
              "             height:  80%;\n",
              "            background:  linear-gradient(90deg,#d65f5f 44.8%, transparent 44.8%);\n",
              "        }    #T_6e9e3a22_eaf1_11ea_9094_0242ac1c0002row20_col6 {\n",
              "            width:  10em;\n",
              "             height:  80%;\n",
              "            background:  linear-gradient(90deg,#d65f5f 48.0%, transparent 48.0%);\n",
              "        }    #T_6e9e3a22_eaf1_11ea_9094_0242ac1c0002row22_col2 {\n",
              "            width:  10em;\n",
              "             height:  80%;\n",
              "            background:  linear-gradient(90deg,#d65f5f 42.9%, transparent 42.9%);\n",
              "        }    #T_6e9e3a22_eaf1_11ea_9094_0242ac1c0002row22_col5 {\n",
              "            width:  10em;\n",
              "             height:  80%;\n",
              "            background:  linear-gradient(90deg,#d65f5f 37.9%, transparent 37.9%);\n",
              "        }    #T_6e9e3a22_eaf1_11ea_9094_0242ac1c0002row22_col6 {\n",
              "            width:  10em;\n",
              "             height:  80%;\n",
              "            background:  linear-gradient(90deg,#d65f5f 8.0%, transparent 8.0%);\n",
              "        }    #T_6e9e3a22_eaf1_11ea_9094_0242ac1c0002row25_col2 {\n",
              "            width:  10em;\n",
              "             height:  80%;\n",
              "            background:  linear-gradient(90deg,#d65f5f 42.9%, transparent 42.9%);\n",
              "        }    #T_6e9e3a22_eaf1_11ea_9094_0242ac1c0002row25_col5 {\n",
              "            width:  10em;\n",
              "             height:  80%;\n",
              "            background:  linear-gradient(90deg,#d65f5f 48.3%, transparent 48.3%);\n",
              "        }    #T_6e9e3a22_eaf1_11ea_9094_0242ac1c0002row25_col6 {\n",
              "            width:  10em;\n",
              "             height:  80%;\n",
              "            background:  linear-gradient(90deg,#d65f5f 60.0%, transparent 60.0%);\n",
              "        }    #T_6e9e3a22_eaf1_11ea_9094_0242ac1c0002row26_col2 {\n",
              "            width:  10em;\n",
              "             height:  80%;\n",
              "            background:  linear-gradient(90deg,#d65f5f 57.1%, transparent 57.1%);\n",
              "        }    #T_6e9e3a22_eaf1_11ea_9094_0242ac1c0002row26_col5 {\n",
              "            width:  10em;\n",
              "             height:  80%;\n",
              "            background:  linear-gradient(90deg,#d65f5f 69.0%, transparent 69.0%);\n",
              "        }    #T_6e9e3a22_eaf1_11ea_9094_0242ac1c0002row26_col6 {\n",
              "            width:  10em;\n",
              "             height:  80%;\n",
              "            background:  linear-gradient(90deg,#d65f5f 48.0%, transparent 48.0%);\n",
              "        }    #T_6e9e3a22_eaf1_11ea_9094_0242ac1c0002row27_col2 {\n",
              "            width:  10em;\n",
              "             height:  80%;\n",
              "            background:  linear-gradient(90deg,#d65f5f 28.6%, transparent 28.6%);\n",
              "        }    #T_6e9e3a22_eaf1_11ea_9094_0242ac1c0002row27_col5 {\n",
              "            width:  10em;\n",
              "             height:  80%;\n",
              "            background:  linear-gradient(90deg,#d65f5f 37.9%, transparent 37.9%);\n",
              "        }    #T_6e9e3a22_eaf1_11ea_9094_0242ac1c0002row27_col6 {\n",
              "            width:  10em;\n",
              "             height:  80%;\n",
              "        }</style><table id=\"T_6e9e3a22_eaf1_11ea_9094_0242ac1c0002\" ><thead>    <tr>        <th class=\"blank level0\" ></th>        <th class=\"col_heading level0 col0\" >Name</th>        <th class=\"col_heading level0 col1\" >Type</th>        <th class=\"col_heading level0 col2\" >Level</th>        <th class=\"col_heading level0 col3\" >Race</th>        <th class=\"col_heading level0 col4\" >Attribute</th>        <th class=\"col_heading level0 col5\" >ATK</th>        <th class=\"col_heading level0 col6\" >DEF</th>    </tr></thead><tbody>\n",
              "                <tr>\n",
              "                        <th id=\"T_6e9e3a22_eaf1_11ea_9094_0242ac1c0002level0_row0\" class=\"row_heading level0 row0\" >0</th>\n",
              "                        <td id=\"T_6e9e3a22_eaf1_11ea_9094_0242ac1c0002row0_col0\" class=\"data row0 col0\" >Limit Reverse</td>\n",
              "                        <td id=\"T_6e9e3a22_eaf1_11ea_9094_0242ac1c0002row0_col1\" class=\"data row0 col1\" >Trap Card</td>\n",
              "                        <td id=\"T_6e9e3a22_eaf1_11ea_9094_0242ac1c0002row0_col2\" class=\"data row0 col2\" >nan</td>\n",
              "                        <td id=\"T_6e9e3a22_eaf1_11ea_9094_0242ac1c0002row0_col3\" class=\"data row0 col3\" >Continuous</td>\n",
              "                        <td id=\"T_6e9e3a22_eaf1_11ea_9094_0242ac1c0002row0_col4\" class=\"data row0 col4\" >nan</td>\n",
              "                        <td id=\"T_6e9e3a22_eaf1_11ea_9094_0242ac1c0002row0_col5\" class=\"data row0 col5\" >nan</td>\n",
              "                        <td id=\"T_6e9e3a22_eaf1_11ea_9094_0242ac1c0002row0_col6\" class=\"data row0 col6\" >nan</td>\n",
              "            </tr>\n",
              "            <tr>\n",
              "                        <th id=\"T_6e9e3a22_eaf1_11ea_9094_0242ac1c0002level0_row1\" class=\"row_heading level0 row1\" >1</th>\n",
              "                        <td id=\"T_6e9e3a22_eaf1_11ea_9094_0242ac1c0002row1_col0\" class=\"data row1 col0\" >The 13th Grave</td>\n",
              "                        <td id=\"T_6e9e3a22_eaf1_11ea_9094_0242ac1c0002row1_col1\" class=\"data row1 col1\" >Normal Monster</td>\n",
              "                        <td id=\"T_6e9e3a22_eaf1_11ea_9094_0242ac1c0002row1_col2\" class=\"data row1 col2\" >3.000000</td>\n",
              "                        <td id=\"T_6e9e3a22_eaf1_11ea_9094_0242ac1c0002row1_col3\" class=\"data row1 col3\" >Zombie</td>\n",
              "                        <td id=\"T_6e9e3a22_eaf1_11ea_9094_0242ac1c0002row1_col4\" class=\"data row1 col4\" >DARK</td>\n",
              "                        <td id=\"T_6e9e3a22_eaf1_11ea_9094_0242ac1c0002row1_col5\" class=\"data row1 col5\" >1200.000000</td>\n",
              "                        <td id=\"T_6e9e3a22_eaf1_11ea_9094_0242ac1c0002row1_col6\" class=\"data row1 col6\" >900.000000</td>\n",
              "            </tr>\n",
              "            <tr>\n",
              "                        <th id=\"T_6e9e3a22_eaf1_11ea_9094_0242ac1c0002level0_row2\" class=\"row_heading level0 row2\" >2</th>\n",
              "                        <td id=\"T_6e9e3a22_eaf1_11ea_9094_0242ac1c0002row2_col0\" class=\"data row2 col0\" >Gem-Enhancement</td>\n",
              "                        <td id=\"T_6e9e3a22_eaf1_11ea_9094_0242ac1c0002row2_col1\" class=\"data row2 col1\" >Trap Card</td>\n",
              "                        <td id=\"T_6e9e3a22_eaf1_11ea_9094_0242ac1c0002row2_col2\" class=\"data row2 col2\" >nan</td>\n",
              "                        <td id=\"T_6e9e3a22_eaf1_11ea_9094_0242ac1c0002row2_col3\" class=\"data row2 col3\" >Normal</td>\n",
              "                        <td id=\"T_6e9e3a22_eaf1_11ea_9094_0242ac1c0002row2_col4\" class=\"data row2 col4\" >nan</td>\n",
              "                        <td id=\"T_6e9e3a22_eaf1_11ea_9094_0242ac1c0002row2_col5\" class=\"data row2 col5\" >nan</td>\n",
              "                        <td id=\"T_6e9e3a22_eaf1_11ea_9094_0242ac1c0002row2_col6\" class=\"data row2 col6\" >nan</td>\n",
              "            </tr>\n",
              "            <tr>\n",
              "                        <th id=\"T_6e9e3a22_eaf1_11ea_9094_0242ac1c0002level0_row3\" class=\"row_heading level0 row3\" >3</th>\n",
              "                        <td id=\"T_6e9e3a22_eaf1_11ea_9094_0242ac1c0002row3_col0\" class=\"data row3 col0\" >Magician's Circle</td>\n",
              "                        <td id=\"T_6e9e3a22_eaf1_11ea_9094_0242ac1c0002row3_col1\" class=\"data row3 col1\" >Trap Card</td>\n",
              "                        <td id=\"T_6e9e3a22_eaf1_11ea_9094_0242ac1c0002row3_col2\" class=\"data row3 col2\" >nan</td>\n",
              "                        <td id=\"T_6e9e3a22_eaf1_11ea_9094_0242ac1c0002row3_col3\" class=\"data row3 col3\" >Normal</td>\n",
              "                        <td id=\"T_6e9e3a22_eaf1_11ea_9094_0242ac1c0002row3_col4\" class=\"data row3 col4\" >nan</td>\n",
              "                        <td id=\"T_6e9e3a22_eaf1_11ea_9094_0242ac1c0002row3_col5\" class=\"data row3 col5\" >nan</td>\n",
              "                        <td id=\"T_6e9e3a22_eaf1_11ea_9094_0242ac1c0002row3_col6\" class=\"data row3 col6\" >nan</td>\n",
              "            </tr>\n",
              "            <tr>\n",
              "                        <th id=\"T_6e9e3a22_eaf1_11ea_9094_0242ac1c0002level0_row4\" class=\"row_heading level0 row4\" >4</th>\n",
              "                        <td id=\"T_6e9e3a22_eaf1_11ea_9094_0242ac1c0002row4_col0\" class=\"data row4 col0\" >Castle of Dark Illusions</td>\n",
              "                        <td id=\"T_6e9e3a22_eaf1_11ea_9094_0242ac1c0002row4_col1\" class=\"data row4 col1\" >Flip Effect Monster</td>\n",
              "                        <td id=\"T_6e9e3a22_eaf1_11ea_9094_0242ac1c0002row4_col2\" class=\"data row4 col2\" >4.000000</td>\n",
              "                        <td id=\"T_6e9e3a22_eaf1_11ea_9094_0242ac1c0002row4_col3\" class=\"data row4 col3\" >Fiend</td>\n",
              "                        <td id=\"T_6e9e3a22_eaf1_11ea_9094_0242ac1c0002row4_col4\" class=\"data row4 col4\" >DARK</td>\n",
              "                        <td id=\"T_6e9e3a22_eaf1_11ea_9094_0242ac1c0002row4_col5\" class=\"data row4 col5\" >920.000000</td>\n",
              "                        <td id=\"T_6e9e3a22_eaf1_11ea_9094_0242ac1c0002row4_col6\" class=\"data row4 col6\" >1930.000000</td>\n",
              "            </tr>\n",
              "            <tr>\n",
              "                        <th id=\"T_6e9e3a22_eaf1_11ea_9094_0242ac1c0002level0_row5\" class=\"row_heading level0 row5\" >5</th>\n",
              "                        <td id=\"T_6e9e3a22_eaf1_11ea_9094_0242ac1c0002row5_col0\" class=\"data row5 col0\" >Cipher Spectrum</td>\n",
              "                        <td id=\"T_6e9e3a22_eaf1_11ea_9094_0242ac1c0002row5_col1\" class=\"data row5 col1\" >Trap Card</td>\n",
              "                        <td id=\"T_6e9e3a22_eaf1_11ea_9094_0242ac1c0002row5_col2\" class=\"data row5 col2\" >nan</td>\n",
              "                        <td id=\"T_6e9e3a22_eaf1_11ea_9094_0242ac1c0002row5_col3\" class=\"data row5 col3\" >Normal</td>\n",
              "                        <td id=\"T_6e9e3a22_eaf1_11ea_9094_0242ac1c0002row5_col4\" class=\"data row5 col4\" >nan</td>\n",
              "                        <td id=\"T_6e9e3a22_eaf1_11ea_9094_0242ac1c0002row5_col5\" class=\"data row5 col5\" >nan</td>\n",
              "                        <td id=\"T_6e9e3a22_eaf1_11ea_9094_0242ac1c0002row5_col6\" class=\"data row5 col6\" >nan</td>\n",
              "            </tr>\n",
              "            <tr>\n",
              "                        <th id=\"T_6e9e3a22_eaf1_11ea_9094_0242ac1c0002level0_row6\" class=\"row_heading level0 row6\" >6</th>\n",
              "                        <td id=\"T_6e9e3a22_eaf1_11ea_9094_0242ac1c0002row6_col0\" class=\"data row6 col0\" >Lava Golem</td>\n",
              "                        <td id=\"T_6e9e3a22_eaf1_11ea_9094_0242ac1c0002row6_col1\" class=\"data row6 col1\" >Effect Monster</td>\n",
              "                        <td id=\"T_6e9e3a22_eaf1_11ea_9094_0242ac1c0002row6_col2\" class=\"data row6 col2\" >8.000000</td>\n",
              "                        <td id=\"T_6e9e3a22_eaf1_11ea_9094_0242ac1c0002row6_col3\" class=\"data row6 col3\" >Fiend</td>\n",
              "                        <td id=\"T_6e9e3a22_eaf1_11ea_9094_0242ac1c0002row6_col4\" class=\"data row6 col4\" >FIRE</td>\n",
              "                        <td id=\"T_6e9e3a22_eaf1_11ea_9094_0242ac1c0002row6_col5\" class=\"data row6 col5\" >3000.000000</td>\n",
              "                        <td id=\"T_6e9e3a22_eaf1_11ea_9094_0242ac1c0002row6_col6\" class=\"data row6 col6\" >2500.000000</td>\n",
              "            </tr>\n",
              "            <tr>\n",
              "                        <th id=\"T_6e9e3a22_eaf1_11ea_9094_0242ac1c0002level0_row7\" class=\"row_heading level0 row7\" >7</th>\n",
              "                        <td id=\"T_6e9e3a22_eaf1_11ea_9094_0242ac1c0002row7_col0\" class=\"data row7 col0\" >Dark Magic Expanded</td>\n",
              "                        <td id=\"T_6e9e3a22_eaf1_11ea_9094_0242ac1c0002row7_col1\" class=\"data row7 col1\" >Spell Card</td>\n",
              "                        <td id=\"T_6e9e3a22_eaf1_11ea_9094_0242ac1c0002row7_col2\" class=\"data row7 col2\" >nan</td>\n",
              "                        <td id=\"T_6e9e3a22_eaf1_11ea_9094_0242ac1c0002row7_col3\" class=\"data row7 col3\" >Quick-Play</td>\n",
              "                        <td id=\"T_6e9e3a22_eaf1_11ea_9094_0242ac1c0002row7_col4\" class=\"data row7 col4\" >nan</td>\n",
              "                        <td id=\"T_6e9e3a22_eaf1_11ea_9094_0242ac1c0002row7_col5\" class=\"data row7 col5\" >nan</td>\n",
              "                        <td id=\"T_6e9e3a22_eaf1_11ea_9094_0242ac1c0002row7_col6\" class=\"data row7 col6\" >nan</td>\n",
              "            </tr>\n",
              "            <tr>\n",
              "                        <th id=\"T_6e9e3a22_eaf1_11ea_9094_0242ac1c0002level0_row8\" class=\"row_heading level0 row8\" >8</th>\n",
              "                        <td id=\"T_6e9e3a22_eaf1_11ea_9094_0242ac1c0002row8_col0\" class=\"data row8 col0\" >Seismic Crasher</td>\n",
              "                        <td id=\"T_6e9e3a22_eaf1_11ea_9094_0242ac1c0002row8_col1\" class=\"data row8 col1\" >Effect Monster</td>\n",
              "                        <td id=\"T_6e9e3a22_eaf1_11ea_9094_0242ac1c0002row8_col2\" class=\"data row8 col2\" >3.000000</td>\n",
              "                        <td id=\"T_6e9e3a22_eaf1_11ea_9094_0242ac1c0002row8_col3\" class=\"data row8 col3\" >Rock</td>\n",
              "                        <td id=\"T_6e9e3a22_eaf1_11ea_9094_0242ac1c0002row8_col4\" class=\"data row8 col4\" >EARTH</td>\n",
              "                        <td id=\"T_6e9e3a22_eaf1_11ea_9094_0242ac1c0002row8_col5\" class=\"data row8 col5\" >1400.000000</td>\n",
              "                        <td id=\"T_6e9e3a22_eaf1_11ea_9094_0242ac1c0002row8_col6\" class=\"data row8 col6\" >300.000000</td>\n",
              "            </tr>\n",
              "            <tr>\n",
              "                        <th id=\"T_6e9e3a22_eaf1_11ea_9094_0242ac1c0002level0_row9\" class=\"row_heading level0 row9\" >9</th>\n",
              "                        <td id=\"T_6e9e3a22_eaf1_11ea_9094_0242ac1c0002row9_col0\" class=\"data row9 col0\" >Laval Lancelord</td>\n",
              "                        <td id=\"T_6e9e3a22_eaf1_11ea_9094_0242ac1c0002row9_col1\" class=\"data row9 col1\" >Effect Monster</td>\n",
              "                        <td id=\"T_6e9e3a22_eaf1_11ea_9094_0242ac1c0002row9_col2\" class=\"data row9 col2\" >6.000000</td>\n",
              "                        <td id=\"T_6e9e3a22_eaf1_11ea_9094_0242ac1c0002row9_col3\" class=\"data row9 col3\" >Warrior</td>\n",
              "                        <td id=\"T_6e9e3a22_eaf1_11ea_9094_0242ac1c0002row9_col4\" class=\"data row9 col4\" >FIRE</td>\n",
              "                        <td id=\"T_6e9e3a22_eaf1_11ea_9094_0242ac1c0002row9_col5\" class=\"data row9 col5\" >2100.000000</td>\n",
              "                        <td id=\"T_6e9e3a22_eaf1_11ea_9094_0242ac1c0002row9_col6\" class=\"data row9 col6\" >200.000000</td>\n",
              "            </tr>\n",
              "            <tr>\n",
              "                        <th id=\"T_6e9e3a22_eaf1_11ea_9094_0242ac1c0002level0_row10\" class=\"row_heading level0 row10\" >10</th>\n",
              "                        <td id=\"T_6e9e3a22_eaf1_11ea_9094_0242ac1c0002row10_col0\" class=\"data row10 col0\" >Skull Dice</td>\n",
              "                        <td id=\"T_6e9e3a22_eaf1_11ea_9094_0242ac1c0002row10_col1\" class=\"data row10 col1\" >Trap Card</td>\n",
              "                        <td id=\"T_6e9e3a22_eaf1_11ea_9094_0242ac1c0002row10_col2\" class=\"data row10 col2\" >nan</td>\n",
              "                        <td id=\"T_6e9e3a22_eaf1_11ea_9094_0242ac1c0002row10_col3\" class=\"data row10 col3\" >Normal</td>\n",
              "                        <td id=\"T_6e9e3a22_eaf1_11ea_9094_0242ac1c0002row10_col4\" class=\"data row10 col4\" >nan</td>\n",
              "                        <td id=\"T_6e9e3a22_eaf1_11ea_9094_0242ac1c0002row10_col5\" class=\"data row10 col5\" >nan</td>\n",
              "                        <td id=\"T_6e9e3a22_eaf1_11ea_9094_0242ac1c0002row10_col6\" class=\"data row10 col6\" >nan</td>\n",
              "            </tr>\n",
              "            <tr>\n",
              "                        <th id=\"T_6e9e3a22_eaf1_11ea_9094_0242ac1c0002level0_row11\" class=\"row_heading level0 row11\" >11</th>\n",
              "                        <td id=\"T_6e9e3a22_eaf1_11ea_9094_0242ac1c0002row11_col0\" class=\"data row11 col0\" >Performapal Springoose</td>\n",
              "                        <td id=\"T_6e9e3a22_eaf1_11ea_9094_0242ac1c0002row11_col1\" class=\"data row11 col1\" >Effect Monster</td>\n",
              "                        <td id=\"T_6e9e3a22_eaf1_11ea_9094_0242ac1c0002row11_col2\" class=\"data row11 col2\" >5.000000</td>\n",
              "                        <td id=\"T_6e9e3a22_eaf1_11ea_9094_0242ac1c0002row11_col3\" class=\"data row11 col3\" >Winged Beast</td>\n",
              "                        <td id=\"T_6e9e3a22_eaf1_11ea_9094_0242ac1c0002row11_col4\" class=\"data row11 col4\" >WIND</td>\n",
              "                        <td id=\"T_6e9e3a22_eaf1_11ea_9094_0242ac1c0002row11_col5\" class=\"data row11 col5\" >1100.000000</td>\n",
              "                        <td id=\"T_6e9e3a22_eaf1_11ea_9094_0242ac1c0002row11_col6\" class=\"data row11 col6\" >2400.000000</td>\n",
              "            </tr>\n",
              "            <tr>\n",
              "                        <th id=\"T_6e9e3a22_eaf1_11ea_9094_0242ac1c0002level0_row12\" class=\"row_heading level0 row12\" >12</th>\n",
              "                        <td id=\"T_6e9e3a22_eaf1_11ea_9094_0242ac1c0002row12_col0\" class=\"data row12 col0\" >Miracle Flipper</td>\n",
              "                        <td id=\"T_6e9e3a22_eaf1_11ea_9094_0242ac1c0002row12_col1\" class=\"data row12 col1\" >Effect Monster</td>\n",
              "                        <td id=\"T_6e9e3a22_eaf1_11ea_9094_0242ac1c0002row12_col2\" class=\"data row12 col2\" >2.000000</td>\n",
              "                        <td id=\"T_6e9e3a22_eaf1_11ea_9094_0242ac1c0002row12_col3\" class=\"data row12 col3\" >Spellcaster</td>\n",
              "                        <td id=\"T_6e9e3a22_eaf1_11ea_9094_0242ac1c0002row12_col4\" class=\"data row12 col4\" >LIGHT</td>\n",
              "                        <td id=\"T_6e9e3a22_eaf1_11ea_9094_0242ac1c0002row12_col5\" class=\"data row12 col5\" >300.000000</td>\n",
              "                        <td id=\"T_6e9e3a22_eaf1_11ea_9094_0242ac1c0002row12_col6\" class=\"data row12 col6\" >500.000000</td>\n",
              "            </tr>\n",
              "            <tr>\n",
              "                        <th id=\"T_6e9e3a22_eaf1_11ea_9094_0242ac1c0002level0_row13\" class=\"row_heading level0 row13\" >13</th>\n",
              "                        <td id=\"T_6e9e3a22_eaf1_11ea_9094_0242ac1c0002row13_col0\" class=\"data row13 col0\" >Key Mouse</td>\n",
              "                        <td id=\"T_6e9e3a22_eaf1_11ea_9094_0242ac1c0002row13_col1\" class=\"data row13 col1\" >Tuner Monster</td>\n",
              "                        <td id=\"T_6e9e3a22_eaf1_11ea_9094_0242ac1c0002row13_col2\" class=\"data row13 col2\" >1.000000</td>\n",
              "                        <td id=\"T_6e9e3a22_eaf1_11ea_9094_0242ac1c0002row13_col3\" class=\"data row13 col3\" >Beast</td>\n",
              "                        <td id=\"T_6e9e3a22_eaf1_11ea_9094_0242ac1c0002row13_col4\" class=\"data row13 col4\" >EARTH</td>\n",
              "                        <td id=\"T_6e9e3a22_eaf1_11ea_9094_0242ac1c0002row13_col5\" class=\"data row13 col5\" >100.000000</td>\n",
              "                        <td id=\"T_6e9e3a22_eaf1_11ea_9094_0242ac1c0002row13_col6\" class=\"data row13 col6\" >100.000000</td>\n",
              "            </tr>\n",
              "            <tr>\n",
              "                        <th id=\"T_6e9e3a22_eaf1_11ea_9094_0242ac1c0002level0_row14\" class=\"row_heading level0 row14\" >14</th>\n",
              "                        <td id=\"T_6e9e3a22_eaf1_11ea_9094_0242ac1c0002row14_col0\" class=\"data row14 col0\" >Mischief of the Gnomes</td>\n",
              "                        <td id=\"T_6e9e3a22_eaf1_11ea_9094_0242ac1c0002row14_col1\" class=\"data row14 col1\" >Trap Card</td>\n",
              "                        <td id=\"T_6e9e3a22_eaf1_11ea_9094_0242ac1c0002row14_col2\" class=\"data row14 col2\" >nan</td>\n",
              "                        <td id=\"T_6e9e3a22_eaf1_11ea_9094_0242ac1c0002row14_col3\" class=\"data row14 col3\" >Normal</td>\n",
              "                        <td id=\"T_6e9e3a22_eaf1_11ea_9094_0242ac1c0002row14_col4\" class=\"data row14 col4\" >nan</td>\n",
              "                        <td id=\"T_6e9e3a22_eaf1_11ea_9094_0242ac1c0002row14_col5\" class=\"data row14 col5\" >nan</td>\n",
              "                        <td id=\"T_6e9e3a22_eaf1_11ea_9094_0242ac1c0002row14_col6\" class=\"data row14 col6\" >nan</td>\n",
              "            </tr>\n",
              "            <tr>\n",
              "                        <th id=\"T_6e9e3a22_eaf1_11ea_9094_0242ac1c0002level0_row15\" class=\"row_heading level0 row15\" >15</th>\n",
              "                        <td id=\"T_6e9e3a22_eaf1_11ea_9094_0242ac1c0002row15_col0\" class=\"data row15 col0\" >Vylon Hept</td>\n",
              "                        <td id=\"T_6e9e3a22_eaf1_11ea_9094_0242ac1c0002row15_col1\" class=\"data row15 col1\" >Effect Monster</td>\n",
              "                        <td id=\"T_6e9e3a22_eaf1_11ea_9094_0242ac1c0002row15_col2\" class=\"data row15 col2\" >4.000000</td>\n",
              "                        <td id=\"T_6e9e3a22_eaf1_11ea_9094_0242ac1c0002row15_col3\" class=\"data row15 col3\" >Fairy</td>\n",
              "                        <td id=\"T_6e9e3a22_eaf1_11ea_9094_0242ac1c0002row15_col4\" class=\"data row15 col4\" >LIGHT</td>\n",
              "                        <td id=\"T_6e9e3a22_eaf1_11ea_9094_0242ac1c0002row15_col5\" class=\"data row15 col5\" >1800.000000</td>\n",
              "                        <td id=\"T_6e9e3a22_eaf1_11ea_9094_0242ac1c0002row15_col6\" class=\"data row15 col6\" >800.000000</td>\n",
              "            </tr>\n",
              "            <tr>\n",
              "                        <th id=\"T_6e9e3a22_eaf1_11ea_9094_0242ac1c0002level0_row16\" class=\"row_heading level0 row16\" >16</th>\n",
              "                        <td id=\"T_6e9e3a22_eaf1_11ea_9094_0242ac1c0002row16_col0\" class=\"data row16 col0\" >Koa'ki Meiru Prototype</td>\n",
              "                        <td id=\"T_6e9e3a22_eaf1_11ea_9094_0242ac1c0002row16_col1\" class=\"data row16 col1\" >Effect Monster</td>\n",
              "                        <td id=\"T_6e9e3a22_eaf1_11ea_9094_0242ac1c0002row16_col2\" class=\"data row16 col2\" >4.000000</td>\n",
              "                        <td id=\"T_6e9e3a22_eaf1_11ea_9094_0242ac1c0002row16_col3\" class=\"data row16 col3\" >Rock</td>\n",
              "                        <td id=\"T_6e9e3a22_eaf1_11ea_9094_0242ac1c0002row16_col4\" class=\"data row16 col4\" >EARTH</td>\n",
              "                        <td id=\"T_6e9e3a22_eaf1_11ea_9094_0242ac1c0002row16_col5\" class=\"data row16 col5\" >1800.000000</td>\n",
              "                        <td id=\"T_6e9e3a22_eaf1_11ea_9094_0242ac1c0002row16_col6\" class=\"data row16 col6\" >1800.000000</td>\n",
              "            </tr>\n",
              "            <tr>\n",
              "                        <th id=\"T_6e9e3a22_eaf1_11ea_9094_0242ac1c0002level0_row17\" class=\"row_heading level0 row17\" >17</th>\n",
              "                        <td id=\"T_6e9e3a22_eaf1_11ea_9094_0242ac1c0002row17_col0\" class=\"data row17 col0\" >Koa'ki Meiru Token</td>\n",
              "                        <td id=\"T_6e9e3a22_eaf1_11ea_9094_0242ac1c0002row17_col1\" class=\"data row17 col1\" >Token</td>\n",
              "                        <td id=\"T_6e9e3a22_eaf1_11ea_9094_0242ac1c0002row17_col2\" class=\"data row17 col2\" >nan</td>\n",
              "                        <td id=\"T_6e9e3a22_eaf1_11ea_9094_0242ac1c0002row17_col3\" class=\"data row17 col3\" >Rock</td>\n",
              "                        <td id=\"T_6e9e3a22_eaf1_11ea_9094_0242ac1c0002row17_col4\" class=\"data row17 col4\" >nan</td>\n",
              "                        <td id=\"T_6e9e3a22_eaf1_11ea_9094_0242ac1c0002row17_col5\" class=\"data row17 col5\" >nan</td>\n",
              "                        <td id=\"T_6e9e3a22_eaf1_11ea_9094_0242ac1c0002row17_col6\" class=\"data row17 col6\" >nan</td>\n",
              "            </tr>\n",
              "            <tr>\n",
              "                        <th id=\"T_6e9e3a22_eaf1_11ea_9094_0242ac1c0002level0_row18\" class=\"row_heading level0 row18\" >18</th>\n",
              "                        <td id=\"T_6e9e3a22_eaf1_11ea_9094_0242ac1c0002row18_col0\" class=\"data row18 col0\" >Hero Flash!!</td>\n",
              "                        <td id=\"T_6e9e3a22_eaf1_11ea_9094_0242ac1c0002row18_col1\" class=\"data row18 col1\" >Spell Card</td>\n",
              "                        <td id=\"T_6e9e3a22_eaf1_11ea_9094_0242ac1c0002row18_col2\" class=\"data row18 col2\" >nan</td>\n",
              "                        <td id=\"T_6e9e3a22_eaf1_11ea_9094_0242ac1c0002row18_col3\" class=\"data row18 col3\" >Normal</td>\n",
              "                        <td id=\"T_6e9e3a22_eaf1_11ea_9094_0242ac1c0002row18_col4\" class=\"data row18 col4\" >nan</td>\n",
              "                        <td id=\"T_6e9e3a22_eaf1_11ea_9094_0242ac1c0002row18_col5\" class=\"data row18 col5\" >nan</td>\n",
              "                        <td id=\"T_6e9e3a22_eaf1_11ea_9094_0242ac1c0002row18_col6\" class=\"data row18 col6\" >nan</td>\n",
              "            </tr>\n",
              "            <tr>\n",
              "                        <th id=\"T_6e9e3a22_eaf1_11ea_9094_0242ac1c0002level0_row19\" class=\"row_heading level0 row19\" >19</th>\n",
              "                        <td id=\"T_6e9e3a22_eaf1_11ea_9094_0242ac1c0002row19_col0\" class=\"data row19 col0\" >E - Emergency Call</td>\n",
              "                        <td id=\"T_6e9e3a22_eaf1_11ea_9094_0242ac1c0002row19_col1\" class=\"data row19 col1\" >Spell Card</td>\n",
              "                        <td id=\"T_6e9e3a22_eaf1_11ea_9094_0242ac1c0002row19_col2\" class=\"data row19 col2\" >nan</td>\n",
              "                        <td id=\"T_6e9e3a22_eaf1_11ea_9094_0242ac1c0002row19_col3\" class=\"data row19 col3\" >Normal</td>\n",
              "                        <td id=\"T_6e9e3a22_eaf1_11ea_9094_0242ac1c0002row19_col4\" class=\"data row19 col4\" >nan</td>\n",
              "                        <td id=\"T_6e9e3a22_eaf1_11ea_9094_0242ac1c0002row19_col5\" class=\"data row19 col5\" >nan</td>\n",
              "                        <td id=\"T_6e9e3a22_eaf1_11ea_9094_0242ac1c0002row19_col6\" class=\"data row19 col6\" >nan</td>\n",
              "            </tr>\n",
              "            <tr>\n",
              "                        <th id=\"T_6e9e3a22_eaf1_11ea_9094_0242ac1c0002level0_row20\" class=\"row_heading level0 row20\" >20</th>\n",
              "                        <td id=\"T_6e9e3a22_eaf1_11ea_9094_0242ac1c0002row20_col0\" class=\"data row20 col0\" >Fenrir</td>\n",
              "                        <td id=\"T_6e9e3a22_eaf1_11ea_9094_0242ac1c0002row20_col1\" class=\"data row20 col1\" >Effect Monster</td>\n",
              "                        <td id=\"T_6e9e3a22_eaf1_11ea_9094_0242ac1c0002row20_col2\" class=\"data row20 col2\" >4.000000</td>\n",
              "                        <td id=\"T_6e9e3a22_eaf1_11ea_9094_0242ac1c0002row20_col3\" class=\"data row20 col3\" >Beast</td>\n",
              "                        <td id=\"T_6e9e3a22_eaf1_11ea_9094_0242ac1c0002row20_col4\" class=\"data row20 col4\" >WATER</td>\n",
              "                        <td id=\"T_6e9e3a22_eaf1_11ea_9094_0242ac1c0002row20_col5\" class=\"data row20 col5\" >1400.000000</td>\n",
              "                        <td id=\"T_6e9e3a22_eaf1_11ea_9094_0242ac1c0002row20_col6\" class=\"data row20 col6\" >1200.000000</td>\n",
              "            </tr>\n",
              "            <tr>\n",
              "                        <th id=\"T_6e9e3a22_eaf1_11ea_9094_0242ac1c0002level0_row21\" class=\"row_heading level0 row21\" >21</th>\n",
              "                        <td id=\"T_6e9e3a22_eaf1_11ea_9094_0242ac1c0002row21_col0\" class=\"data row21 col0\" >Ballista of Rampart Smashing</td>\n",
              "                        <td id=\"T_6e9e3a22_eaf1_11ea_9094_0242ac1c0002row21_col1\" class=\"data row21 col1\" >Spell Card</td>\n",
              "                        <td id=\"T_6e9e3a22_eaf1_11ea_9094_0242ac1c0002row21_col2\" class=\"data row21 col2\" >nan</td>\n",
              "                        <td id=\"T_6e9e3a22_eaf1_11ea_9094_0242ac1c0002row21_col3\" class=\"data row21 col3\" >Equip</td>\n",
              "                        <td id=\"T_6e9e3a22_eaf1_11ea_9094_0242ac1c0002row21_col4\" class=\"data row21 col4\" >nan</td>\n",
              "                        <td id=\"T_6e9e3a22_eaf1_11ea_9094_0242ac1c0002row21_col5\" class=\"data row21 col5\" >nan</td>\n",
              "                        <td id=\"T_6e9e3a22_eaf1_11ea_9094_0242ac1c0002row21_col6\" class=\"data row21 col6\" >nan</td>\n",
              "            </tr>\n",
              "            <tr>\n",
              "                        <th id=\"T_6e9e3a22_eaf1_11ea_9094_0242ac1c0002level0_row22\" class=\"row_heading level0 row22\" >22</th>\n",
              "                        <td id=\"T_6e9e3a22_eaf1_11ea_9094_0242ac1c0002row22_col0\" class=\"data row22 col0\" >Rapid Warrior</td>\n",
              "                        <td id=\"T_6e9e3a22_eaf1_11ea_9094_0242ac1c0002row22_col1\" class=\"data row22 col1\" >Effect Monster</td>\n",
              "                        <td id=\"T_6e9e3a22_eaf1_11ea_9094_0242ac1c0002row22_col2\" class=\"data row22 col2\" >4.000000</td>\n",
              "                        <td id=\"T_6e9e3a22_eaf1_11ea_9094_0242ac1c0002row22_col3\" class=\"data row22 col3\" >Warrior</td>\n",
              "                        <td id=\"T_6e9e3a22_eaf1_11ea_9094_0242ac1c0002row22_col4\" class=\"data row22 col4\" >WIND</td>\n",
              "                        <td id=\"T_6e9e3a22_eaf1_11ea_9094_0242ac1c0002row22_col5\" class=\"data row22 col5\" >1200.000000</td>\n",
              "                        <td id=\"T_6e9e3a22_eaf1_11ea_9094_0242ac1c0002row22_col6\" class=\"data row22 col6\" >200.000000</td>\n",
              "            </tr>\n",
              "            <tr>\n",
              "                        <th id=\"T_6e9e3a22_eaf1_11ea_9094_0242ac1c0002level0_row23\" class=\"row_heading level0 row23\" >23</th>\n",
              "                        <td id=\"T_6e9e3a22_eaf1_11ea_9094_0242ac1c0002row23_col0\" class=\"data row23 col0\" >Inzektor Gauntlet</td>\n",
              "                        <td id=\"T_6e9e3a22_eaf1_11ea_9094_0242ac1c0002row23_col1\" class=\"data row23 col1\" >Trap Card</td>\n",
              "                        <td id=\"T_6e9e3a22_eaf1_11ea_9094_0242ac1c0002row23_col2\" class=\"data row23 col2\" >nan</td>\n",
              "                        <td id=\"T_6e9e3a22_eaf1_11ea_9094_0242ac1c0002row23_col3\" class=\"data row23 col3\" >Normal</td>\n",
              "                        <td id=\"T_6e9e3a22_eaf1_11ea_9094_0242ac1c0002row23_col4\" class=\"data row23 col4\" >nan</td>\n",
              "                        <td id=\"T_6e9e3a22_eaf1_11ea_9094_0242ac1c0002row23_col5\" class=\"data row23 col5\" >nan</td>\n",
              "                        <td id=\"T_6e9e3a22_eaf1_11ea_9094_0242ac1c0002row23_col6\" class=\"data row23 col6\" >nan</td>\n",
              "            </tr>\n",
              "            <tr>\n",
              "                        <th id=\"T_6e9e3a22_eaf1_11ea_9094_0242ac1c0002level0_row24\" class=\"row_heading level0 row24\" >24</th>\n",
              "                        <td id=\"T_6e9e3a22_eaf1_11ea_9094_0242ac1c0002row24_col0\" class=\"data row24 col0\" >Mound of the Bound Creator</td>\n",
              "                        <td id=\"T_6e9e3a22_eaf1_11ea_9094_0242ac1c0002row24_col1\" class=\"data row24 col1\" >Spell Card</td>\n",
              "                        <td id=\"T_6e9e3a22_eaf1_11ea_9094_0242ac1c0002row24_col2\" class=\"data row24 col2\" >nan</td>\n",
              "                        <td id=\"T_6e9e3a22_eaf1_11ea_9094_0242ac1c0002row24_col3\" class=\"data row24 col3\" >Field</td>\n",
              "                        <td id=\"T_6e9e3a22_eaf1_11ea_9094_0242ac1c0002row24_col4\" class=\"data row24 col4\" >nan</td>\n",
              "                        <td id=\"T_6e9e3a22_eaf1_11ea_9094_0242ac1c0002row24_col5\" class=\"data row24 col5\" >nan</td>\n",
              "                        <td id=\"T_6e9e3a22_eaf1_11ea_9094_0242ac1c0002row24_col6\" class=\"data row24 col6\" >nan</td>\n",
              "            </tr>\n",
              "            <tr>\n",
              "                        <th id=\"T_6e9e3a22_eaf1_11ea_9094_0242ac1c0002level0_row25\" class=\"row_heading level0 row25\" >25</th>\n",
              "                        <td id=\"T_6e9e3a22_eaf1_11ea_9094_0242ac1c0002row25_col0\" class=\"data row25 col0\" >Mermail Abyssnose</td>\n",
              "                        <td id=\"T_6e9e3a22_eaf1_11ea_9094_0242ac1c0002row25_col1\" class=\"data row25 col1\" >Effect Monster</td>\n",
              "                        <td id=\"T_6e9e3a22_eaf1_11ea_9094_0242ac1c0002row25_col2\" class=\"data row25 col2\" >4.000000</td>\n",
              "                        <td id=\"T_6e9e3a22_eaf1_11ea_9094_0242ac1c0002row25_col3\" class=\"data row25 col3\" >Fish</td>\n",
              "                        <td id=\"T_6e9e3a22_eaf1_11ea_9094_0242ac1c0002row25_col4\" class=\"data row25 col4\" >WATER</td>\n",
              "                        <td id=\"T_6e9e3a22_eaf1_11ea_9094_0242ac1c0002row25_col5\" class=\"data row25 col5\" >1500.000000</td>\n",
              "                        <td id=\"T_6e9e3a22_eaf1_11ea_9094_0242ac1c0002row25_col6\" class=\"data row25 col6\" >1500.000000</td>\n",
              "            </tr>\n",
              "            <tr>\n",
              "                        <th id=\"T_6e9e3a22_eaf1_11ea_9094_0242ac1c0002level0_row26\" class=\"row_heading level0 row26\" >26</th>\n",
              "                        <td id=\"T_6e9e3a22_eaf1_11ea_9094_0242ac1c0002row26_col0\" class=\"data row26 col0\" >Jet Warrior</td>\n",
              "                        <td id=\"T_6e9e3a22_eaf1_11ea_9094_0242ac1c0002row26_col1\" class=\"data row26 col1\" >Synchro Monster</td>\n",
              "                        <td id=\"T_6e9e3a22_eaf1_11ea_9094_0242ac1c0002row26_col2\" class=\"data row26 col2\" >5.000000</td>\n",
              "                        <td id=\"T_6e9e3a22_eaf1_11ea_9094_0242ac1c0002row26_col3\" class=\"data row26 col3\" >Warrior</td>\n",
              "                        <td id=\"T_6e9e3a22_eaf1_11ea_9094_0242ac1c0002row26_col4\" class=\"data row26 col4\" >FIRE</td>\n",
              "                        <td id=\"T_6e9e3a22_eaf1_11ea_9094_0242ac1c0002row26_col5\" class=\"data row26 col5\" >2100.000000</td>\n",
              "                        <td id=\"T_6e9e3a22_eaf1_11ea_9094_0242ac1c0002row26_col6\" class=\"data row26 col6\" >1200.000000</td>\n",
              "            </tr>\n",
              "            <tr>\n",
              "                        <th id=\"T_6e9e3a22_eaf1_11ea_9094_0242ac1c0002level0_row27\" class=\"row_heading level0 row27\" >27</th>\n",
              "                        <td id=\"T_6e9e3a22_eaf1_11ea_9094_0242ac1c0002row27_col0\" class=\"data row27 col0\" >T.G. Warwolf</td>\n",
              "                        <td id=\"T_6e9e3a22_eaf1_11ea_9094_0242ac1c0002row27_col1\" class=\"data row27 col1\" >Effect Monster</td>\n",
              "                        <td id=\"T_6e9e3a22_eaf1_11ea_9094_0242ac1c0002row27_col2\" class=\"data row27 col2\" >3.000000</td>\n",
              "                        <td id=\"T_6e9e3a22_eaf1_11ea_9094_0242ac1c0002row27_col3\" class=\"data row27 col3\" >Beast-Warrior</td>\n",
              "                        <td id=\"T_6e9e3a22_eaf1_11ea_9094_0242ac1c0002row27_col4\" class=\"data row27 col4\" >DARK</td>\n",
              "                        <td id=\"T_6e9e3a22_eaf1_11ea_9094_0242ac1c0002row27_col5\" class=\"data row27 col5\" >1200.000000</td>\n",
              "                        <td id=\"T_6e9e3a22_eaf1_11ea_9094_0242ac1c0002row27_col6\" class=\"data row27 col6\" >0.000000</td>\n",
              "            </tr>\n",
              "            <tr>\n",
              "                        <th id=\"T_6e9e3a22_eaf1_11ea_9094_0242ac1c0002level0_row28\" class=\"row_heading level0 row28\" >28</th>\n",
              "                        <td id=\"T_6e9e3a22_eaf1_11ea_9094_0242ac1c0002row28_col0\" class=\"data row28 col0\" >A Legendary Ocean</td>\n",
              "                        <td id=\"T_6e9e3a22_eaf1_11ea_9094_0242ac1c0002row28_col1\" class=\"data row28 col1\" >Spell Card</td>\n",
              "                        <td id=\"T_6e9e3a22_eaf1_11ea_9094_0242ac1c0002row28_col2\" class=\"data row28 col2\" >nan</td>\n",
              "                        <td id=\"T_6e9e3a22_eaf1_11ea_9094_0242ac1c0002row28_col3\" class=\"data row28 col3\" >Field</td>\n",
              "                        <td id=\"T_6e9e3a22_eaf1_11ea_9094_0242ac1c0002row28_col4\" class=\"data row28 col4\" >nan</td>\n",
              "                        <td id=\"T_6e9e3a22_eaf1_11ea_9094_0242ac1c0002row28_col5\" class=\"data row28 col5\" >nan</td>\n",
              "                        <td id=\"T_6e9e3a22_eaf1_11ea_9094_0242ac1c0002row28_col6\" class=\"data row28 col6\" >nan</td>\n",
              "            </tr>\n",
              "            <tr>\n",
              "                        <th id=\"T_6e9e3a22_eaf1_11ea_9094_0242ac1c0002level0_row29\" class=\"row_heading level0 row29\" >29</th>\n",
              "                        <td id=\"T_6e9e3a22_eaf1_11ea_9094_0242ac1c0002row29_col0\" class=\"data row29 col0\" >The Regulation of Tribe</td>\n",
              "                        <td id=\"T_6e9e3a22_eaf1_11ea_9094_0242ac1c0002row29_col1\" class=\"data row29 col1\" >Trap Card</td>\n",
              "                        <td id=\"T_6e9e3a22_eaf1_11ea_9094_0242ac1c0002row29_col2\" class=\"data row29 col2\" >nan</td>\n",
              "                        <td id=\"T_6e9e3a22_eaf1_11ea_9094_0242ac1c0002row29_col3\" class=\"data row29 col3\" >Continuous</td>\n",
              "                        <td id=\"T_6e9e3a22_eaf1_11ea_9094_0242ac1c0002row29_col4\" class=\"data row29 col4\" >nan</td>\n",
              "                        <td id=\"T_6e9e3a22_eaf1_11ea_9094_0242ac1c0002row29_col5\" class=\"data row29 col5\" >nan</td>\n",
              "                        <td id=\"T_6e9e3a22_eaf1_11ea_9094_0242ac1c0002row29_col6\" class=\"data row29 col6\" >nan</td>\n",
              "            </tr>\n",
              "    </tbody></table>"
            ],
            "text/plain": [
              "<pandas.io.formats.style.Styler at 0x7fdf1c1756d8>"
            ]
          },
          "metadata": {
            "tags": []
          },
          "execution_count": 10
        }
      ]
    },
    {
      "cell_type": "code",
      "metadata": {
        "id": "A78g_0Ivs3Fc",
        "colab_type": "code",
        "colab": {
          "base_uri": "https://localhost:8080/",
          "height": 297
        },
        "outputId": "23671af5-a3bb-418c-ad29-e5646c7a8ce1"
      },
      "source": [
        "df.describe() # 平均値、標準偏差、最小値、25%四分値、中央値、75%四分値、最大値をまとめて表示"
      ],
      "execution_count": null,
      "outputs": [
        {
          "output_type": "execute_result",
          "data": {
            "text/html": [
              "<div>\n",
              "<style scoped>\n",
              "    .dataframe tbody tr th:only-of-type {\n",
              "        vertical-align: middle;\n",
              "    }\n",
              "\n",
              "    .dataframe tbody tr th {\n",
              "        vertical-align: top;\n",
              "    }\n",
              "\n",
              "    .dataframe thead th {\n",
              "        text-align: right;\n",
              "    }\n",
              "</style>\n",
              "<table border=\"1\" class=\"dataframe\">\n",
              "  <thead>\n",
              "    <tr style=\"text-align: right;\">\n",
              "      <th></th>\n",
              "      <th>Level</th>\n",
              "      <th>ATK</th>\n",
              "      <th>DEF</th>\n",
              "    </tr>\n",
              "  </thead>\n",
              "  <tbody>\n",
              "    <tr>\n",
              "      <th>count</th>\n",
              "      <td>4275.000000</td>\n",
              "      <td>4275.000000</td>\n",
              "      <td>4275.000000</td>\n",
              "    </tr>\n",
              "    <tr>\n",
              "      <th>mean</th>\n",
              "      <td>4.449591</td>\n",
              "      <td>1455.553216</td>\n",
              "      <td>1212.318129</td>\n",
              "    </tr>\n",
              "    <tr>\n",
              "      <th>std</th>\n",
              "      <td>2.185045</td>\n",
              "      <td>899.165365</td>\n",
              "      <td>802.966529</td>\n",
              "    </tr>\n",
              "    <tr>\n",
              "      <th>min</th>\n",
              "      <td>1.000000</td>\n",
              "      <td>0.000000</td>\n",
              "      <td>0.000000</td>\n",
              "    </tr>\n",
              "    <tr>\n",
              "      <th>25%</th>\n",
              "      <td>3.000000</td>\n",
              "      <td>800.000000</td>\n",
              "      <td>600.000000</td>\n",
              "    </tr>\n",
              "    <tr>\n",
              "      <th>50%</th>\n",
              "      <td>4.000000</td>\n",
              "      <td>1500.000000</td>\n",
              "      <td>1200.000000</td>\n",
              "    </tr>\n",
              "    <tr>\n",
              "      <th>75%</th>\n",
              "      <td>6.000000</td>\n",
              "      <td>2100.000000</td>\n",
              "      <td>1800.000000</td>\n",
              "    </tr>\n",
              "    <tr>\n",
              "      <th>max</th>\n",
              "      <td>12.000000</td>\n",
              "      <td>5000.000000</td>\n",
              "      <td>5000.000000</td>\n",
              "    </tr>\n",
              "  </tbody>\n",
              "</table>\n",
              "</div>"
            ],
            "text/plain": [
              "             Level          ATK          DEF\n",
              "count  4275.000000  4275.000000  4275.000000\n",
              "mean      4.449591  1455.553216  1212.318129\n",
              "std       2.185045   899.165365   802.966529\n",
              "min       1.000000     0.000000     0.000000\n",
              "25%       3.000000   800.000000   600.000000\n",
              "50%       4.000000  1500.000000  1200.000000\n",
              "75%       6.000000  2100.000000  1800.000000\n",
              "max      12.000000  5000.000000  5000.000000"
            ]
          },
          "metadata": {
            "tags": []
          },
          "execution_count": 11
        }
      ]
    },
    {
      "cell_type": "code",
      "metadata": {
        "id": "A16GDmmks7N4",
        "colab_type": "code",
        "colab": {
          "base_uri": "https://localhost:8080/",
          "height": 255
        },
        "outputId": "d4b815db-57e8-49fc-8c12-44f0d73b7dbe"
      },
      "source": [
        "df.info() #データの情報を見る"
      ],
      "execution_count": null,
      "outputs": [
        {
          "output_type": "stream",
          "text": [
            "<class 'pandas.core.frame.DataFrame'>\n",
            "RangeIndex: 6534 entries, 0 to 6533\n",
            "Data columns (total 7 columns):\n",
            " #   Column     Non-Null Count  Dtype  \n",
            "---  ------     --------------  -----  \n",
            " 0   Name       6534 non-null   object \n",
            " 1   Type       6534 non-null   object \n",
            " 2   Level      4275 non-null   float64\n",
            " 3   Race       6534 non-null   object \n",
            " 4   Attribute  4275 non-null   object \n",
            " 5   ATK        4275 non-null   float64\n",
            " 6   DEF        4275 non-null   float64\n",
            "dtypes: float64(3), object(4)\n",
            "memory usage: 357.5+ KB\n"
          ],
          "name": "stdout"
        }
      ]
    },
    {
      "cell_type": "code",
      "metadata": {
        "id": "viajo0j6s-a_",
        "colab_type": "code",
        "colab": {
          "base_uri": "https://localhost:8080/",
          "height": 153
        },
        "outputId": "48cdedbd-675a-4426-8800-b1aa9109c77d"
      },
      "source": [
        "df.isnull().sum()"
      ],
      "execution_count": null,
      "outputs": [
        {
          "output_type": "execute_result",
          "data": {
            "text/plain": [
              "Name            0\n",
              "Type            0\n",
              "Level        2259\n",
              "Race            0\n",
              "Attribute    2259\n",
              "ATK          2259\n",
              "DEF          2259\n",
              "dtype: int64"
            ]
          },
          "metadata": {
            "tags": []
          },
          "execution_count": 13
        }
      ]
    },
    {
      "cell_type": "code",
      "metadata": {
        "id": "bOZ_PlxXs_jB",
        "colab_type": "code",
        "colab": {
          "base_uri": "https://localhost:8080/",
          "height": 51
        },
        "outputId": "feea00d6-b7b1-4592-a105-e6f2748d596a"
      },
      "source": [
        "np.set_printoptions(threshold=np.inf)\n",
        "np.column_stack(df) #列名を全て取得"
      ],
      "execution_count": null,
      "outputs": [
        {
          "output_type": "execute_result",
          "data": {
            "text/plain": [
              "array([['Name', 'Type', 'Level', 'Race', 'Attribute', 'ATK', 'DEF']],\n",
              "      dtype='<U9')"
            ]
          },
          "metadata": {
            "tags": []
          },
          "execution_count": 14
        }
      ]
    },
    {
      "cell_type": "code",
      "metadata": {
        "id": "PEmENqw1tEVc",
        "colab_type": "code",
        "colab": {
          "base_uri": "https://localhost:8080/",
          "height": 567
        },
        "outputId": "3edbe1e8-d67b-41af-ce05-427940d6cd1a"
      },
      "source": [
        "pg = sns.pairplot(df.iloc[:,[2,5,6]])"
      ],
      "execution_count": null,
      "outputs": [
        {
          "output_type": "display_data",
          "data": {
            "image/png": "[encoded data removed]",
            "text/plain": [
              "<Figure size 540x540 with 12 Axes>"
            ]
          },
          "metadata": {
            "tags": [],
            "needs_background": "light"
          }
        }
      ]
    },
    {
      "cell_type": "code",
      "metadata": {
        "id": "fDOTiJMWtIB_",
        "colab_type": "code",
        "colab": {
          "base_uri": "https://localhost:8080/",
          "height": 142
        },
        "outputId": "5e99f753-4a8f-4486-8a4d-96ee46c0a317"
      },
      "source": [
        "corr_mat = df.iloc[:,[2,5,6]].corr(method='pearson')\n",
        "# method='spearman'でスピアマン、'kendall'でケンドールも指定可能\n",
        "corr_mat"
      ],
      "execution_count": null,
      "outputs": [
        {
          "output_type": "execute_result",
          "data": {
            "text/html": [
              "<div>\n",
              "<style scoped>\n",
              "    .dataframe tbody tr th:only-of-type {\n",
              "        vertical-align: middle;\n",
              "    }\n",
              "\n",
              "    .dataframe tbody tr th {\n",
              "        vertical-align: top;\n",
              "    }\n",
              "\n",
              "    .dataframe thead th {\n",
              "        text-align: right;\n",
              "    }\n",
              "</style>\n",
              "<table border=\"1\" class=\"dataframe\">\n",
              "  <thead>\n",
              "    <tr style=\"text-align: right;\">\n",
              "      <th></th>\n",
              "      <th>Level</th>\n",
              "      <th>ATK</th>\n",
              "      <th>DEF</th>\n",
              "    </tr>\n",
              "  </thead>\n",
              "  <tbody>\n",
              "    <tr>\n",
              "      <th>Level</th>\n",
              "      <td>1.000000</td>\n",
              "      <td>0.725354</td>\n",
              "      <td>0.592225</td>\n",
              "    </tr>\n",
              "    <tr>\n",
              "      <th>ATK</th>\n",
              "      <td>0.725354</td>\n",
              "      <td>1.000000</td>\n",
              "      <td>0.508246</td>\n",
              "    </tr>\n",
              "    <tr>\n",
              "      <th>DEF</th>\n",
              "      <td>0.592225</td>\n",
              "      <td>0.508246</td>\n",
              "      <td>1.000000</td>\n",
              "    </tr>\n",
              "  </tbody>\n",
              "</table>\n",
              "</div>"
            ],
            "text/plain": [
              "          Level       ATK       DEF\n",
              "Level  1.000000  0.725354  0.592225\n",
              "ATK    0.725354  1.000000  0.508246\n",
              "DEF    0.592225  0.508246  1.000000"
            ]
          },
          "metadata": {
            "tags": []
          },
          "execution_count": 16
        }
      ]
    },
    {
      "cell_type": "code",
      "metadata": {
        "id": "ZJ31B39qtJFT",
        "colab_type": "code",
        "colab": {
          "base_uri": "https://localhost:8080/",
          "height": 269
        },
        "outputId": "74804862-f5df-4c79-c4af-18ab50781fa8"
      },
      "source": [
        "#ヒートマップ化\n",
        "\n",
        "sns.heatmap(corr_mat,\n",
        "            vmin=-1.0,\n",
        "            vmax=1.0,\n",
        "            center=0,\n",
        "            annot=True, # True:格子の中に値を表示\n",
        "            fmt='.1f',\n",
        "            xticklabels=corr_mat.columns.values,\n",
        "            yticklabels=corr_mat.columns.values\n",
        "           )\n",
        "plt.show() "
      ],
      "execution_count": null,
      "outputs": [
        {
          "output_type": "display_data",
          "data": {
            "image/png": "[encoded data removed]",
            "text/plain": [
              "<Figure size 432x288 with 2 Axes>"
            ]
          },
          "metadata": {
            "tags": [],
            "needs_background": "light"
          }
        }
      ]
    },
    {
      "cell_type": "code",
      "metadata": {
        "id": "oOa0PHpJtL2A",
        "colab_type": "code",
        "colab": {
          "base_uri": "https://localhost:8080/",
          "height": 359
        },
        "outputId": "1f4d8df9-4a69-4017-9944-209267081806"
      },
      "source": [
        "df_monster = df.dropna()\n",
        "df_monster.head(10)"
      ],
      "execution_count": null,
      "outputs": [
        {
          "output_type": "execute_result",
          "data": {
            "text/html": [
              "<div>\n",
              "<style scoped>\n",
              "    .dataframe tbody tr th:only-of-type {\n",
              "        vertical-align: middle;\n",
              "    }\n",
              "\n",
              "    .dataframe tbody tr th {\n",
              "        vertical-align: top;\n",
              "    }\n",
              "\n",
              "    .dataframe thead th {\n",
              "        text-align: right;\n",
              "    }\n",
              "</style>\n",
              "<table border=\"1\" class=\"dataframe\">\n",
              "  <thead>\n",
              "    <tr style=\"text-align: right;\">\n",
              "      <th></th>\n",
              "      <th>Name</th>\n",
              "      <th>Type</th>\n",
              "      <th>Level</th>\n",
              "      <th>Race</th>\n",
              "      <th>Attribute</th>\n",
              "      <th>ATK</th>\n",
              "      <th>DEF</th>\n",
              "    </tr>\n",
              "  </thead>\n",
              "  <tbody>\n",
              "    <tr>\n",
              "      <th>1</th>\n",
              "      <td>The 13th Grave</td>\n",
              "      <td>Normal Monster</td>\n",
              "      <td>3.0</td>\n",
              "      <td>Zombie</td>\n",
              "      <td>DARK</td>\n",
              "      <td>1200.0</td>\n",
              "      <td>900.0</td>\n",
              "    </tr>\n",
              "    <tr>\n",
              "      <th>4</th>\n",
              "      <td>Castle of Dark Illusions</td>\n",
              "      <td>Flip Effect Monster</td>\n",
              "      <td>4.0</td>\n",
              "      <td>Fiend</td>\n",
              "      <td>DARK</td>\n",
              "      <td>920.0</td>\n",
              "      <td>1930.0</td>\n",
              "    </tr>\n",
              "    <tr>\n",
              "      <th>6</th>\n",
              "      <td>Lava Golem</td>\n",
              "      <td>Effect Monster</td>\n",
              "      <td>8.0</td>\n",
              "      <td>Fiend</td>\n",
              "      <td>FIRE</td>\n",
              "      <td>3000.0</td>\n",
              "      <td>2500.0</td>\n",
              "    </tr>\n",
              "    <tr>\n",
              "      <th>8</th>\n",
              "      <td>Seismic Crasher</td>\n",
              "      <td>Effect Monster</td>\n",
              "      <td>3.0</td>\n",
              "      <td>Rock</td>\n",
              "      <td>EARTH</td>\n",
              "      <td>1400.0</td>\n",
              "      <td>300.0</td>\n",
              "    </tr>\n",
              "    <tr>\n",
              "      <th>9</th>\n",
              "      <td>Laval Lancelord</td>\n",
              "      <td>Effect Monster</td>\n",
              "      <td>6.0</td>\n",
              "      <td>Warrior</td>\n",
              "      <td>FIRE</td>\n",
              "      <td>2100.0</td>\n",
              "      <td>200.0</td>\n",
              "    </tr>\n",
              "    <tr>\n",
              "      <th>11</th>\n",
              "      <td>Performapal Springoose</td>\n",
              "      <td>Effect Monster</td>\n",
              "      <td>5.0</td>\n",
              "      <td>Winged Beast</td>\n",
              "      <td>WIND</td>\n",
              "      <td>1100.0</td>\n",
              "      <td>2400.0</td>\n",
              "    </tr>\n",
              "    <tr>\n",
              "      <th>12</th>\n",
              "      <td>Miracle Flipper</td>\n",
              "      <td>Effect Monster</td>\n",
              "      <td>2.0</td>\n",
              "      <td>Spellcaster</td>\n",
              "      <td>LIGHT</td>\n",
              "      <td>300.0</td>\n",
              "      <td>500.0</td>\n",
              "    </tr>\n",
              "    <tr>\n",
              "      <th>13</th>\n",
              "      <td>Key Mouse</td>\n",
              "      <td>Tuner Monster</td>\n",
              "      <td>1.0</td>\n",
              "      <td>Beast</td>\n",
              "      <td>EARTH</td>\n",
              "      <td>100.0</td>\n",
              "      <td>100.0</td>\n",
              "    </tr>\n",
              "    <tr>\n",
              "      <th>15</th>\n",
              "      <td>Vylon Hept</td>\n",
              "      <td>Effect Monster</td>\n",
              "      <td>4.0</td>\n",
              "      <td>Fairy</td>\n",
              "      <td>LIGHT</td>\n",
              "      <td>1800.0</td>\n",
              "      <td>800.0</td>\n",
              "    </tr>\n",
              "    <tr>\n",
              "      <th>16</th>\n",
              "      <td>Koa'ki Meiru Prototype</td>\n",
              "      <td>Effect Monster</td>\n",
              "      <td>4.0</td>\n",
              "      <td>Rock</td>\n",
              "      <td>EARTH</td>\n",
              "      <td>1800.0</td>\n",
              "      <td>1800.0</td>\n",
              "    </tr>\n",
              "  </tbody>\n",
              "</table>\n",
              "</div>"
            ],
            "text/plain": [
              "                        Name                 Type  ...     ATK     DEF\n",
              "1             The 13th Grave       Normal Monster  ...  1200.0   900.0\n",
              "4   Castle of Dark Illusions  Flip Effect Monster  ...   920.0  1930.0\n",
              "6                 Lava Golem       Effect Monster  ...  3000.0  2500.0\n",
              "8            Seismic Crasher       Effect Monster  ...  1400.0   300.0\n",
              "9            Laval Lancelord       Effect Monster  ...  2100.0   200.0\n",
              "11    Performapal Springoose       Effect Monster  ...  1100.0  2400.0\n",
              "12           Miracle Flipper       Effect Monster  ...   300.0   500.0\n",
              "13                 Key Mouse        Tuner Monster  ...   100.0   100.0\n",
              "15                Vylon Hept       Effect Monster  ...  1800.0   800.0\n",
              "16    Koa'ki Meiru Prototype       Effect Monster  ...  1800.0  1800.0\n",
              "\n",
              "[10 rows x 7 columns]"
            ]
          },
          "metadata": {
            "tags": []
          },
          "execution_count": 18
        }
      ]
    },
    {
      "cell_type": "code",
      "metadata": {
        "id": "rIQZjvGFtQoS",
        "colab_type": "code",
        "colab": {
          "base_uri": "https://localhost:8080/",
          "height": 173
        },
        "outputId": "4de3d37e-588c-4613-c41a-df41d33611fd"
      },
      "source": [
        "df_monster.astype('str').describe()"
      ],
      "execution_count": null,
      "outputs": [
        {
          "output_type": "execute_result",
          "data": {
            "text/html": [
              "<div>\n",
              "<style scoped>\n",
              "    .dataframe tbody tr th:only-of-type {\n",
              "        vertical-align: middle;\n",
              "    }\n",
              "\n",
              "    .dataframe tbody tr th {\n",
              "        vertical-align: top;\n",
              "    }\n",
              "\n",
              "    .dataframe thead th {\n",
              "        text-align: right;\n",
              "    }\n",
              "</style>\n",
              "<table border=\"1\" class=\"dataframe\">\n",
              "  <thead>\n",
              "    <tr style=\"text-align: right;\">\n",
              "      <th></th>\n",
              "      <th>Name</th>\n",
              "      <th>Type</th>\n",
              "      <th>Level</th>\n",
              "      <th>Race</th>\n",
              "      <th>Attribute</th>\n",
              "      <th>ATK</th>\n",
              "      <th>DEF</th>\n",
              "    </tr>\n",
              "  </thead>\n",
              "  <tbody>\n",
              "    <tr>\n",
              "      <th>count</th>\n",
              "      <td>4275</td>\n",
              "      <td>4275</td>\n",
              "      <td>4275</td>\n",
              "      <td>4275</td>\n",
              "      <td>4275</td>\n",
              "      <td>4275</td>\n",
              "      <td>4275</td>\n",
              "    </tr>\n",
              "    <tr>\n",
              "      <th>unique</th>\n",
              "      <td>4215</td>\n",
              "      <td>21</td>\n",
              "      <td>12</td>\n",
              "      <td>24</td>\n",
              "      <td>7</td>\n",
              "      <td>77</td>\n",
              "      <td>70</td>\n",
              "    </tr>\n",
              "    <tr>\n",
              "      <th>top</th>\n",
              "      <td>Dark Magician</td>\n",
              "      <td>Effect Monster</td>\n",
              "      <td>4.0</td>\n",
              "      <td>Warrior</td>\n",
              "      <td>DARK</td>\n",
              "      <td>0.0</td>\n",
              "      <td>1000.0</td>\n",
              "    </tr>\n",
              "    <tr>\n",
              "      <th>freq</th>\n",
              "      <td>9</td>\n",
              "      <td>2494</td>\n",
              "      <td>1384</td>\n",
              "      <td>596</td>\n",
              "      <td>1117</td>\n",
              "      <td>292</td>\n",
              "      <td>447</td>\n",
              "    </tr>\n",
              "  </tbody>\n",
              "</table>\n",
              "</div>"
            ],
            "text/plain": [
              "                 Name            Type Level     Race Attribute   ATK     DEF\n",
              "count            4275            4275  4275     4275      4275  4275    4275\n",
              "unique           4215              21    12       24         7    77      70\n",
              "top     Dark Magician  Effect Monster   4.0  Warrior      DARK   0.0  1000.0\n",
              "freq                9            2494  1384      596      1117   292     447"
            ]
          },
          "metadata": {
            "tags": []
          },
          "execution_count": 19
        }
      ]
    },
    {
      "cell_type": "code",
      "metadata": {
        "id": "SXQi6cTBtT6_",
        "colab_type": "code",
        "colab": {
          "base_uri": "https://localhost:8080/",
          "height": 296
        },
        "outputId": "1269bae0-8533-4a96-9291-9df32908ce34"
      },
      "source": [
        "Type1 = pd.DataFrame(df_monster[\"Type\"])\n",
        "Type2 = pd.DataFrame(Type1[\"Type\"].value_counts())\n",
        "Type3 = Type2.reset_index()\n",
        "Type4 = Type3.sort_values(\"index\")\n",
        "Type5 = Type4.rename(columns={\"index\":\"Type\",\"Type\":\"cnt\"})\n",
        "Type6 = Type5.sort_values(by=\"cnt\",ascending=False)\n",
        "sns.barplot(x=\"cnt\",y=\"Type\",data =Type6)"
      ],
      "execution_count": null,
      "outputs": [
        {
          "output_type": "execute_result",
          "data": {
            "text/plain": [
              "<matplotlib.axes._subplots.AxesSubplot at 0x7fdf0d0f6eb8>"
            ]
          },
          "metadata": {
            "tags": []
          },
          "execution_count": 20
        },
        {
          "output_type": "display_data",
          "data": {
            "image/png": "[encoded data removed]",
            "text/plain": [
              "<Figure size 432x288 with 1 Axes>"
            ]
          },
          "metadata": {
            "tags": [],
            "needs_background": "light"
          }
        }
      ]
    },
    {
      "cell_type": "code",
      "metadata": {
        "id": "0vHqSL5qtVNE",
        "colab_type": "code",
        "colab": {
          "base_uri": "https://localhost:8080/",
          "height": 296
        },
        "outputId": "31f14504-f646-4ebf-f5c8-9f65f0805122"
      },
      "source": [
        "Race1 = pd.DataFrame(df_monster[\"Race\"])\n",
        "Race2 = pd.DataFrame(Race1[\"Race\"].value_counts())\n",
        "Race3 = Race2.reset_index()\n",
        "Race4 = Race3.sort_values(\"index\")\n",
        "Race5 = Race4.rename(columns={\"index\":\"Race\",\"Race\":\"cnt\"})\n",
        "Race6 = Race5.sort_values(by=\"cnt\",ascending=False)\n",
        "sns.barplot(x=\"cnt\",y=\"Race\",data =Race6)"
      ],
      "execution_count": null,
      "outputs": [
        {
          "output_type": "execute_result",
          "data": {
            "text/plain": [
              "<matplotlib.axes._subplots.AxesSubplot at 0x7fdf0d00d048>"
            ]
          },
          "metadata": {
            "tags": []
          },
          "execution_count": 21
        },
        {
          "output_type": "display_data",
          "data": {
            "image/png": "[encoded data removed]",
            "text/plain": [
              "<Figure size 432x288 with 1 Axes>"
            ]
          },
          "metadata": {
            "tags": [],
            "needs_background": "light"
          }
        }
      ]
    },
    {
      "cell_type": "code",
      "metadata": {
        "id": "7nKFJ0oetXfv",
        "colab_type": "code",
        "colab": {
          "base_uri": "https://localhost:8080/",
          "height": 296
        },
        "outputId": "86b42ad6-68a5-4526-eb02-c3519f01ac31"
      },
      "source": [
        "Attribute1 = pd.DataFrame(df_monster[\"Attribute\"])\n",
        "\n",
        "Attribute2 = pd.DataFrame(Attribute1[\"Attribute\"].value_counts())\n",
        "Attribute3 = Attribute2.reset_index()\n",
        "Attribute4 = Attribute3.sort_values(\"index\")\n",
        "Attribute5 = Attribute4.rename(columns={\"index\":\"Attribute\",\"Attribute\":\"cnt\"})\n",
        "Attribute6 = Attribute5.sort_values(by=\"cnt\",ascending=False)\n",
        "sns.barplot(x=\"cnt\",y=\"Attribute\",data =Attribute6)\n"
      ],
      "execution_count": null,
      "outputs": [
        {
          "output_type": "execute_result",
          "data": {
            "text/plain": [
              "<matplotlib.axes._subplots.AxesSubplot at 0x7fdf0cf246a0>"
            ]
          },
          "metadata": {
            "tags": []
          },
          "execution_count": 22
        },
        {
          "output_type": "display_data",
          "data": {
            "image/png": "[encoded data removed]",
            "text/plain": [
              "<Figure size 432x288 with 1 Axes>"
            ]
          },
          "metadata": {
            "tags": [],
            "needs_background": "light"
          }
        }
      ]
    },
    {
      "cell_type": "code",
      "metadata": {
        "id": "jvilSPnktdDl",
        "colab_type": "code",
        "colab": {
          "base_uri": "https://localhost:8080/",
          "height": 204
        },
        "outputId": "404b8f07-2160-4dc5-a756-dd0ea04b1822"
      },
      "source": [
        "df_monster.head()"
      ],
      "execution_count": null,
      "outputs": [
        {
          "output_type": "execute_result",
          "data": {
            "text/html": [
              "<div>\n",
              "<style scoped>\n",
              "    .dataframe tbody tr th:only-of-type {\n",
              "        vertical-align: middle;\n",
              "    }\n",
              "\n",
              "    .dataframe tbody tr th {\n",
              "        vertical-align: top;\n",
              "    }\n",
              "\n",
              "    .dataframe thead th {\n",
              "        text-align: right;\n",
              "    }\n",
              "</style>\n",
              "<table border=\"1\" class=\"dataframe\">\n",
              "  <thead>\n",
              "    <tr style=\"text-align: right;\">\n",
              "      <th></th>\n",
              "      <th>Name</th>\n",
              "      <th>Type</th>\n",
              "      <th>Level</th>\n",
              "      <th>Race</th>\n",
              "      <th>Attribute</th>\n",
              "      <th>ATK</th>\n",
              "      <th>DEF</th>\n",
              "    </tr>\n",
              "  </thead>\n",
              "  <tbody>\n",
              "    <tr>\n",
              "      <th>1</th>\n",
              "      <td>The 13th Grave</td>\n",
              "      <td>Normal Monster</td>\n",
              "      <td>3.0</td>\n",
              "      <td>Zombie</td>\n",
              "      <td>DARK</td>\n",
              "      <td>1200.0</td>\n",
              "      <td>900.0</td>\n",
              "    </tr>\n",
              "    <tr>\n",
              "      <th>4</th>\n",
              "      <td>Castle of Dark Illusions</td>\n",
              "      <td>Flip Effect Monster</td>\n",
              "      <td>4.0</td>\n",
              "      <td>Fiend</td>\n",
              "      <td>DARK</td>\n",
              "      <td>920.0</td>\n",
              "      <td>1930.0</td>\n",
              "    </tr>\n",
              "    <tr>\n",
              "      <th>6</th>\n",
              "      <td>Lava Golem</td>\n",
              "      <td>Effect Monster</td>\n",
              "      <td>8.0</td>\n",
              "      <td>Fiend</td>\n",
              "      <td>FIRE</td>\n",
              "      <td>3000.0</td>\n",
              "      <td>2500.0</td>\n",
              "    </tr>\n",
              "    <tr>\n",
              "      <th>8</th>\n",
              "      <td>Seismic Crasher</td>\n",
              "      <td>Effect Monster</td>\n",
              "      <td>3.0</td>\n",
              "      <td>Rock</td>\n",
              "      <td>EARTH</td>\n",
              "      <td>1400.0</td>\n",
              "      <td>300.0</td>\n",
              "    </tr>\n",
              "    <tr>\n",
              "      <th>9</th>\n",
              "      <td>Laval Lancelord</td>\n",
              "      <td>Effect Monster</td>\n",
              "      <td>6.0</td>\n",
              "      <td>Warrior</td>\n",
              "      <td>FIRE</td>\n",
              "      <td>2100.0</td>\n",
              "      <td>200.0</td>\n",
              "    </tr>\n",
              "  </tbody>\n",
              "</table>\n",
              "</div>"
            ],
            "text/plain": [
              "                       Name                 Type  ...     ATK     DEF\n",
              "1            The 13th Grave       Normal Monster  ...  1200.0   900.0\n",
              "4  Castle of Dark Illusions  Flip Effect Monster  ...   920.0  1930.0\n",
              "6                Lava Golem       Effect Monster  ...  3000.0  2500.0\n",
              "8           Seismic Crasher       Effect Monster  ...  1400.0   300.0\n",
              "9           Laval Lancelord       Effect Monster  ...  2100.0   200.0\n",
              "\n",
              "[5 rows x 7 columns]"
            ]
          },
          "metadata": {
            "tags": []
          },
          "execution_count": 23
        }
      ]
    },
    {
      "cell_type": "code",
      "metadata": {
        "id": "WFX_XQm4thh4",
        "colab_type": "code",
        "colab": {
          "base_uri": "https://localhost:8080/",
          "height": 34
        },
        "outputId": "c90d38c1-fca9-4423-c39a-b0679f5b273d"
      },
      "source": [
        "Attributes = list(set(list(df_monster['Attribute'])))\n",
        "print(len(Attributes), type)"
      ],
      "execution_count": null,
      "outputs": [
        {
          "output_type": "stream",
          "text": [
            "7 <class 'type'>\n"
          ],
          "name": "stdout"
        }
      ]
    },
    {
      "cell_type": "code",
      "metadata": {
        "id": "9FkaTMf_yBo-",
        "colab_type": "code",
        "colab": {
          "base_uri": "https://localhost:8080/",
          "height": 34
        },
        "outputId": "c5df36f4-4c13-4841-c506-2b7ca90c58e8"
      },
      "source": [
        "from google.colab import drive\n",
        "drive.mount('/content/drive')"
      ],
      "execution_count": null,
      "outputs": [
        {
          "output_type": "stream",
          "text": [
            "Drive already mounted at /content/drive; to attempt to forcibly remount, call drive.mount(\"/content/drive\", force_remount=True).\n"
          ],
          "name": "stdout"
        }
      ]
    }
  ]
}